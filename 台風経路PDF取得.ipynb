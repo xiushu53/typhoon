{
 "cells": [
  {
   "cell_type": "markdown",
   "metadata": {},
   "source": [
    "### 最新PDFを末尾に出力"
   ]
  },
  {
   "cell_type": "code",
   "execution_count": 70,
   "metadata": {},
   "outputs": [],
   "source": [
    "import numpy as np\n",
    "import pandas as pd\n",
    "import requests\n",
    "from bs4 import BeautifulSoup\n",
    "from datetime import datetime as dt\n",
    "import time\n",
    "from tqdm.notebook import tqdm\n",
    "import os"
   ]
  },
  {
   "cell_type": "code",
   "execution_count": 9,
   "metadata": {},
   "outputs": [],
   "source": [
    "OLDEST_YEAR = 2001\n",
    "LATEST_YEAR  = dt.today().year\n",
    "YEARS = [y for y in range(OLDEST_YEAR,LATEST_YEAR + 1)]"
   ]
  },
  {
   "cell_type": "code",
   "execution_count": 10,
   "metadata": {},
   "outputs": [],
   "source": [
    "PDF_BASE_URL = 'https://www.data.jma.go.jp/yoho/typhoon/position_table/'"
   ]
  },
  {
   "cell_type": "code",
   "execution_count": 6,
   "metadata": {},
   "outputs": [],
   "source": [
    "TYPHOON_NUMS = {}"
   ]
  },
  {
   "cell_type": "code",
   "execution_count": 13,
   "metadata": {},
   "outputs": [],
   "source": [
    "PDF_URLS = [PDF_BASE_URL + 'table%d.html' % y for y in YEARS]"
   ]
  },
  {
   "cell_type": "code",
   "execution_count": 34,
   "metadata": {},
   "outputs": [],
   "source": [
    "def getPdfLinks(URL):\n",
    "    html_text = requests.get(URL).text\n",
    "    soup = BeautifulSoup(html_text, 'html.parser')\n",
    "    ex_pdfs = []\n",
    "    for c in soup.find_all('ul', class_='contentslink'):\n",
    "        lis = c.find_all('a')\n",
    "        for l in lis:\n",
    "            href = l.get('href')\n",
    "            if href.find('typhoon') >= 0:\n",
    "                ex_pdfs.append(l.get('href').replace('../../',''))\n",
    "    ex_pdfs.sort()\n",
    "    return ex_pdfs"
   ]
  },
  {
   "cell_type": "code",
   "execution_count": 37,
   "metadata": {},
   "outputs": [
    {
     "data": {
      "application/vnd.jupyter.widget-view+json": {
       "model_id": "a88eb1906c814199814395a96710d00c",
       "version_major": 2,
       "version_minor": 0
      },
      "text/plain": [
       "HBox(children=(HTML(value=''), FloatProgress(value=0.0, max=22.0), HTML(value='')))"
      ]
     },
     "metadata": {},
     "output_type": "display_data"
    },
    {
     "name": "stdout",
     "output_type": "stream",
     "text": [
      "\n"
     ]
    }
   ],
   "source": [
    "all_pdf_links = []\n",
    "for p in tqdm(PDF_URLS):\n",
    "    ex_pdfs = getPdfLinks(p)\n",
    "    all_pdf_links.append(ex_pdfs)\n",
    "    time.sleep(0.5)"
   ]
  },
  {
   "cell_type": "code",
   "execution_count": 42,
   "metadata": {},
   "outputs": [],
   "source": [
    "IND_PDF_BASE_URL = 'https://www.data.jma.go.jp/yoho/'"
   ]
  },
  {
   "cell_type": "code",
   "execution_count": 45,
   "metadata": {
    "scrolled": true
   },
   "outputs": [
    {
     "data": {
      "application/vnd.jupyter.widget-view+json": {
       "model_id": "9d063c7a98a745e995af61846dad25a3",
       "version_major": 2,
       "version_minor": 0
      },
      "text/plain": [
       "HBox(children=(HTML(value=''), FloatProgress(value=0.0, max=22.0), HTML(value='')))"
      ]
     },
     "metadata": {},
     "output_type": "display_data"
    },
    {
     "data": {
      "application/vnd.jupyter.widget-view+json": {
       "model_id": "a4e4e095bfd14b6c8fe90f1800a0c622",
       "version_major": 2,
       "version_minor": 0
      },
      "text/plain": [
       "HBox(children=(HTML(value=''), FloatProgress(value=0.0, max=26.0), HTML(value='')))"
      ]
     },
     "metadata": {},
     "output_type": "display_data"
    },
    {
     "name": "stdout",
     "output_type": "stream",
     "text": [
      "\n"
     ]
    },
    {
     "data": {
      "application/vnd.jupyter.widget-view+json": {
       "model_id": "5eed9a60dccb48b18cae40efe98dd991",
       "version_major": 2,
       "version_minor": 0
      },
      "text/plain": [
       "HBox(children=(HTML(value=''), FloatProgress(value=0.0, max=26.0), HTML(value='')))"
      ]
     },
     "metadata": {},
     "output_type": "display_data"
    },
    {
     "name": "stdout",
     "output_type": "stream",
     "text": [
      "\n"
     ]
    },
    {
     "data": {
      "application/vnd.jupyter.widget-view+json": {
       "model_id": "16790707ea73430b9912f5872cc38d92",
       "version_major": 2,
       "version_minor": 0
      },
      "text/plain": [
       "HBox(children=(HTML(value=''), FloatProgress(value=0.0, max=21.0), HTML(value='')))"
      ]
     },
     "metadata": {},
     "output_type": "display_data"
    },
    {
     "name": "stdout",
     "output_type": "stream",
     "text": [
      "\n"
     ]
    },
    {
     "data": {
      "application/vnd.jupyter.widget-view+json": {
       "model_id": "f1e25cc9cac84e63ab8bc865666d7638",
       "version_major": 2,
       "version_minor": 0
      },
      "text/plain": [
       "HBox(children=(HTML(value=''), FloatProgress(value=0.0, max=29.0), HTML(value='')))"
      ]
     },
     "metadata": {},
     "output_type": "display_data"
    },
    {
     "name": "stdout",
     "output_type": "stream",
     "text": [
      "\n"
     ]
    },
    {
     "data": {
      "application/vnd.jupyter.widget-view+json": {
       "model_id": "4fbc4d7847274d60bfdf2076af386c56",
       "version_major": 2,
       "version_minor": 0
      },
      "text/plain": [
       "HBox(children=(HTML(value=''), FloatProgress(value=0.0, max=23.0), HTML(value='')))"
      ]
     },
     "metadata": {},
     "output_type": "display_data"
    },
    {
     "name": "stdout",
     "output_type": "stream",
     "text": [
      "\n"
     ]
    },
    {
     "data": {
      "application/vnd.jupyter.widget-view+json": {
       "model_id": "1cfe1c4c22014101a6c93070f4ff52dd",
       "version_major": 2,
       "version_minor": 0
      },
      "text/plain": [
       "HBox(children=(HTML(value=''), FloatProgress(value=0.0, max=23.0), HTML(value='')))"
      ]
     },
     "metadata": {},
     "output_type": "display_data"
    },
    {
     "name": "stdout",
     "output_type": "stream",
     "text": [
      "\n"
     ]
    },
    {
     "data": {
      "application/vnd.jupyter.widget-view+json": {
       "model_id": "3ac55bdb9eb647eabf96823c89745cb8",
       "version_major": 2,
       "version_minor": 0
      },
      "text/plain": [
       "HBox(children=(HTML(value=''), FloatProgress(value=0.0, max=24.0), HTML(value='')))"
      ]
     },
     "metadata": {},
     "output_type": "display_data"
    },
    {
     "name": "stdout",
     "output_type": "stream",
     "text": [
      "\n"
     ]
    },
    {
     "data": {
      "application/vnd.jupyter.widget-view+json": {
       "model_id": "bbe68bcdfa9d42289bce08a85c1cb09a",
       "version_major": 2,
       "version_minor": 0
      },
      "text/plain": [
       "HBox(children=(HTML(value=''), FloatProgress(value=0.0, max=22.0), HTML(value='')))"
      ]
     },
     "metadata": {},
     "output_type": "display_data"
    },
    {
     "name": "stdout",
     "output_type": "stream",
     "text": [
      "\n"
     ]
    },
    {
     "data": {
      "application/vnd.jupyter.widget-view+json": {
       "model_id": "4285e243e26544e7b286471c2bffda12",
       "version_major": 2,
       "version_minor": 0
      },
      "text/plain": [
       "HBox(children=(HTML(value=''), FloatProgress(value=0.0, max=22.0), HTML(value='')))"
      ]
     },
     "metadata": {},
     "output_type": "display_data"
    },
    {
     "name": "stdout",
     "output_type": "stream",
     "text": [
      "\n"
     ]
    },
    {
     "data": {
      "application/vnd.jupyter.widget-view+json": {
       "model_id": "8fb046541a3e47caa8fb4946455b2947",
       "version_major": 2,
       "version_minor": 0
      },
      "text/plain": [
       "HBox(children=(HTML(value=''), FloatProgress(value=0.0, max=14.0), HTML(value='')))"
      ]
     },
     "metadata": {},
     "output_type": "display_data"
    },
    {
     "name": "stdout",
     "output_type": "stream",
     "text": [
      "\n"
     ]
    },
    {
     "data": {
      "application/vnd.jupyter.widget-view+json": {
       "model_id": "c26e61ba40b84140a159121741bbf3aa",
       "version_major": 2,
       "version_minor": 0
      },
      "text/plain": [
       "HBox(children=(HTML(value=''), FloatProgress(value=0.0, max=21.0), HTML(value='')))"
      ]
     },
     "metadata": {},
     "output_type": "display_data"
    },
    {
     "name": "stdout",
     "output_type": "stream",
     "text": [
      "\n"
     ]
    },
    {
     "data": {
      "application/vnd.jupyter.widget-view+json": {
       "model_id": "031abb1b9c884180836ada91ca6e7eea",
       "version_major": 2,
       "version_minor": 0
      },
      "text/plain": [
       "HBox(children=(HTML(value=''), FloatProgress(value=0.0, max=25.0), HTML(value='')))"
      ]
     },
     "metadata": {},
     "output_type": "display_data"
    },
    {
     "name": "stdout",
     "output_type": "stream",
     "text": [
      "\n"
     ]
    },
    {
     "data": {
      "application/vnd.jupyter.widget-view+json": {
       "model_id": "423e9c00692b438aa17bc376be1f28c3",
       "version_major": 2,
       "version_minor": 0
      },
      "text/plain": [
       "HBox(children=(HTML(value=''), FloatProgress(value=0.0, max=31.0), HTML(value='')))"
      ]
     },
     "metadata": {},
     "output_type": "display_data"
    },
    {
     "name": "stdout",
     "output_type": "stream",
     "text": [
      "\n"
     ]
    },
    {
     "data": {
      "application/vnd.jupyter.widget-view+json": {
       "model_id": "ed90d430e14c4e8d844508f1c11f8dda",
       "version_major": 2,
       "version_minor": 0
      },
      "text/plain": [
       "HBox(children=(HTML(value=''), FloatProgress(value=0.0, max=23.0), HTML(value='')))"
      ]
     },
     "metadata": {},
     "output_type": "display_data"
    },
    {
     "name": "stdout",
     "output_type": "stream",
     "text": [
      "\n"
     ]
    },
    {
     "data": {
      "application/vnd.jupyter.widget-view+json": {
       "model_id": "86029f0926314ea5bce0fff546b29586",
       "version_major": 2,
       "version_minor": 0
      },
      "text/plain": [
       "HBox(children=(HTML(value=''), FloatProgress(value=0.0, max=27.0), HTML(value='')))"
      ]
     },
     "metadata": {},
     "output_type": "display_data"
    },
    {
     "name": "stdout",
     "output_type": "stream",
     "text": [
      "\n"
     ]
    },
    {
     "data": {
      "application/vnd.jupyter.widget-view+json": {
       "model_id": "3c2b2f047cc7495487d6fb8837abb52a",
       "version_major": 2,
       "version_minor": 0
      },
      "text/plain": [
       "HBox(children=(HTML(value=''), FloatProgress(value=0.0, max=26.0), HTML(value='')))"
      ]
     },
     "metadata": {},
     "output_type": "display_data"
    },
    {
     "name": "stdout",
     "output_type": "stream",
     "text": [
      "\n"
     ]
    },
    {
     "data": {
      "application/vnd.jupyter.widget-view+json": {
       "model_id": "fc545e3f62be4ac4accdf2945998f5f1",
       "version_major": 2,
       "version_minor": 0
      },
      "text/plain": [
       "HBox(children=(HTML(value=''), FloatProgress(value=0.0, max=27.0), HTML(value='')))"
      ]
     },
     "metadata": {},
     "output_type": "display_data"
    },
    {
     "name": "stdout",
     "output_type": "stream",
     "text": [
      "\n"
     ]
    },
    {
     "data": {
      "application/vnd.jupyter.widget-view+json": {
       "model_id": "d754c3eb90224d49b67711b252eed921",
       "version_major": 2,
       "version_minor": 0
      },
      "text/plain": [
       "HBox(children=(HTML(value=''), FloatProgress(value=0.0, max=29.0), HTML(value='')))"
      ]
     },
     "metadata": {},
     "output_type": "display_data"
    },
    {
     "name": "stdout",
     "output_type": "stream",
     "text": [
      "\n"
     ]
    },
    {
     "data": {
      "application/vnd.jupyter.widget-view+json": {
       "model_id": "ba3cbedbbf6a4508818d3db81cb44e49",
       "version_major": 2,
       "version_minor": 0
      },
      "text/plain": [
       "HBox(children=(HTML(value=''), FloatProgress(value=0.0, max=29.0), HTML(value='')))"
      ]
     },
     "metadata": {},
     "output_type": "display_data"
    },
    {
     "name": "stdout",
     "output_type": "stream",
     "text": [
      "\n"
     ]
    },
    {
     "data": {
      "application/vnd.jupyter.widget-view+json": {
       "model_id": "ab8a608afbe047b7b4bdf7e527d21315",
       "version_major": 2,
       "version_minor": 0
      },
      "text/plain": [
       "HBox(children=(HTML(value=''), FloatProgress(value=0.0, max=23.0), HTML(value='')))"
      ]
     },
     "metadata": {},
     "output_type": "display_data"
    },
    {
     "name": "stdout",
     "output_type": "stream",
     "text": [
      "\n"
     ]
    },
    {
     "data": {
      "application/vnd.jupyter.widget-view+json": {
       "model_id": "0540e548a4784fffb417c9dc902ae725",
       "version_major": 2,
       "version_minor": 0
      },
      "text/plain": [
       "HBox(children=(HTML(value=''), FloatProgress(value=0.0, max=22.0), HTML(value='')))"
      ]
     },
     "metadata": {},
     "output_type": "display_data"
    },
    {
     "name": "stdout",
     "output_type": "stream",
     "text": [
      "\n"
     ]
    },
    {
     "data": {
      "application/vnd.jupyter.widget-view+json": {
       "model_id": "18d934a65a504f1f8e27d41a0b0dbe66",
       "version_major": 2,
       "version_minor": 0
      },
      "text/plain": [
       "HBox(children=(HTML(value=''), FloatProgress(value=0.0, max=18.0), HTML(value='')))"
      ]
     },
     "metadata": {},
     "output_type": "display_data"
    },
    {
     "name": "stdout",
     "output_type": "stream",
     "text": [
      "\n",
      "\n"
     ]
    }
   ],
   "source": [
    "all_ind_url = []\n",
    "for a in tqdm(all_pdf_links):\n",
    "    for p in tqdm(a):\n",
    "        all_ind_url.append(IND_PDF_BASE_URL + p)"
   ]
  },
  {
   "cell_type": "code",
   "execution_count": 50,
   "metadata": {},
   "outputs": [],
   "source": [
    "def download_files(url,file_dir):\n",
    "    \n",
    "    response = requests.get(url)\n",
    "    \n",
    "    try:\n",
    "        response_status = response.raise_for_status()\n",
    "    except Exception as exc:\n",
    "        print(\"Error:{}\".format(exc))\n",
    "    \n",
    "    if response_status == None:\n",
    "        file = open(os.path.join(file_dir,os.path.basename(url)),\"wb\")\n",
    "        for chunk in response.iter_content(100000):\n",
    "            file.write(chunk)\n",
    "\n",
    "        file.close()\n",
    "        print(\"ダウンロード・ファイル保存完了\")"
   ]
  },
  {
   "cell_type": "code",
   "execution_count": 54,
   "metadata": {
    "scrolled": true
   },
   "outputs": [
    {
     "data": {
      "application/vnd.jupyter.widget-view+json": {
       "model_id": "af76f230c3674fc4ab764fdd7e3c48cb",
       "version_major": 2,
       "version_minor": 0
      },
      "text/plain": [
       "HBox(children=(HTML(value=''), FloatProgress(value=0.0, max=531.0), HTML(value='')))"
      ]
     },
     "metadata": {},
     "output_type": "display_data"
    },
    {
     "name": "stdout",
     "output_type": "stream",
     "text": [
      "ダウンロード・ファイル保存完了\n",
      "ダウンロード・ファイル保存完了\n",
      "ダウンロード・ファイル保存完了\n",
      "ダウンロード・ファイル保存完了\n",
      "ダウンロード・ファイル保存完了\n",
      "ダウンロード・ファイル保存完了\n",
      "ダウンロード・ファイル保存完了\n",
      "ダウンロード・ファイル保存完了\n",
      "ダウンロード・ファイル保存完了\n",
      "ダウンロード・ファイル保存完了\n",
      "ダウンロード・ファイル保存完了\n",
      "ダウンロード・ファイル保存完了\n",
      "ダウンロード・ファイル保存完了\n",
      "ダウンロード・ファイル保存完了\n",
      "ダウンロード・ファイル保存完了\n",
      "ダウンロード・ファイル保存完了\n",
      "ダウンロード・ファイル保存完了\n",
      "ダウンロード・ファイル保存完了\n",
      "ダウンロード・ファイル保存完了\n",
      "ダウンロード・ファイル保存完了\n",
      "ダウンロード・ファイル保存完了\n",
      "ダウンロード・ファイル保存完了\n",
      "ダウンロード・ファイル保存完了\n",
      "ダウンロード・ファイル保存完了\n",
      "ダウンロード・ファイル保存完了\n",
      "ダウンロード・ファイル保存完了\n",
      "ダウンロード・ファイル保存完了\n",
      "ダウンロード・ファイル保存完了\n",
      "ダウンロード・ファイル保存完了\n",
      "ダウンロード・ファイル保存完了\n",
      "ダウンロード・ファイル保存完了\n",
      "ダウンロード・ファイル保存完了\n",
      "ダウンロード・ファイル保存完了\n",
      "ダウンロード・ファイル保存完了\n",
      "ダウンロード・ファイル保存完了\n",
      "ダウンロード・ファイル保存完了\n",
      "ダウンロード・ファイル保存完了\n",
      "ダウンロード・ファイル保存完了\n",
      "ダウンロード・ファイル保存完了\n",
      "ダウンロード・ファイル保存完了\n",
      "ダウンロード・ファイル保存完了\n",
      "ダウンロード・ファイル保存完了\n",
      "ダウンロード・ファイル保存完了\n",
      "ダウンロード・ファイル保存完了\n",
      "ダウンロード・ファイル保存完了\n",
      "ダウンロード・ファイル保存完了\n",
      "ダウンロード・ファイル保存完了\n",
      "ダウンロード・ファイル保存完了\n",
      "ダウンロード・ファイル保存完了\n",
      "ダウンロード・ファイル保存完了\n",
      "ダウンロード・ファイル保存完了\n",
      "ダウンロード・ファイル保存完了\n",
      "ダウンロード・ファイル保存完了\n",
      "ダウンロード・ファイル保存完了\n",
      "ダウンロード・ファイル保存完了\n",
      "ダウンロード・ファイル保存完了\n",
      "ダウンロード・ファイル保存完了\n",
      "ダウンロード・ファイル保存完了\n",
      "ダウンロード・ファイル保存完了\n",
      "ダウンロード・ファイル保存完了\n",
      "ダウンロード・ファイル保存完了\n",
      "ダウンロード・ファイル保存完了\n",
      "ダウンロード・ファイル保存完了\n",
      "ダウンロード・ファイル保存完了\n",
      "ダウンロード・ファイル保存完了\n",
      "ダウンロード・ファイル保存完了\n",
      "ダウンロード・ファイル保存完了\n",
      "ダウンロード・ファイル保存完了\n",
      "ダウンロード・ファイル保存完了\n",
      "ダウンロード・ファイル保存完了\n",
      "ダウンロード・ファイル保存完了\n",
      "ダウンロード・ファイル保存完了\n",
      "ダウンロード・ファイル保存完了\n",
      "ダウンロード・ファイル保存完了\n",
      "ダウンロード・ファイル保存完了\n",
      "ダウンロード・ファイル保存完了\n",
      "ダウンロード・ファイル保存完了\n",
      "ダウンロード・ファイル保存完了\n",
      "ダウンロード・ファイル保存完了\n",
      "ダウンロード・ファイル保存完了\n",
      "ダウンロード・ファイル保存完了\n",
      "ダウンロード・ファイル保存完了\n",
      "ダウンロード・ファイル保存完了\n",
      "ダウンロード・ファイル保存完了\n",
      "ダウンロード・ファイル保存完了\n",
      "ダウンロード・ファイル保存完了\n",
      "ダウンロード・ファイル保存完了\n",
      "ダウンロード・ファイル保存完了\n",
      "ダウンロード・ファイル保存完了\n",
      "ダウンロード・ファイル保存完了\n",
      "ダウンロード・ファイル保存完了\n",
      "ダウンロード・ファイル保存完了\n",
      "ダウンロード・ファイル保存完了\n",
      "ダウンロード・ファイル保存完了\n",
      "ダウンロード・ファイル保存完了\n",
      "ダウンロード・ファイル保存完了\n",
      "ダウンロード・ファイル保存完了\n",
      "ダウンロード・ファイル保存完了\n",
      "ダウンロード・ファイル保存完了\n",
      "ダウンロード・ファイル保存完了\n",
      "ダウンロード・ファイル保存完了\n",
      "ダウンロード・ファイル保存完了\n",
      "ダウンロード・ファイル保存完了\n",
      "ダウンロード・ファイル保存完了\n",
      "ダウンロード・ファイル保存完了\n",
      "ダウンロード・ファイル保存完了\n",
      "ダウンロード・ファイル保存完了\n",
      "ダウンロード・ファイル保存完了\n",
      "ダウンロード・ファイル保存完了\n",
      "ダウンロード・ファイル保存完了\n",
      "ダウンロード・ファイル保存完了\n",
      "ダウンロード・ファイル保存完了\n",
      "ダウンロード・ファイル保存完了\n",
      "ダウンロード・ファイル保存完了\n",
      "ダウンロード・ファイル保存完了\n",
      "ダウンロード・ファイル保存完了\n",
      "ダウンロード・ファイル保存完了\n",
      "ダウンロード・ファイル保存完了\n",
      "ダウンロード・ファイル保存完了\n",
      "ダウンロード・ファイル保存完了\n",
      "ダウンロード・ファイル保存完了\n",
      "ダウンロード・ファイル保存完了\n",
      "ダウンロード・ファイル保存完了\n",
      "ダウンロード・ファイル保存完了\n",
      "ダウンロード・ファイル保存完了\n",
      "ダウンロード・ファイル保存完了\n",
      "ダウンロード・ファイル保存完了\n",
      "ダウンロード・ファイル保存完了\n",
      "ダウンロード・ファイル保存完了\n",
      "ダウンロード・ファイル保存完了\n",
      "ダウンロード・ファイル保存完了\n",
      "ダウンロード・ファイル保存完了\n",
      "ダウンロード・ファイル保存完了\n",
      "ダウンロード・ファイル保存完了\n",
      "ダウンロード・ファイル保存完了\n",
      "ダウンロード・ファイル保存完了\n",
      "ダウンロード・ファイル保存完了\n",
      "ダウンロード・ファイル保存完了\n",
      "ダウンロード・ファイル保存完了\n",
      "ダウンロード・ファイル保存完了\n",
      "ダウンロード・ファイル保存完了\n",
      "ダウンロード・ファイル保存完了\n",
      "ダウンロード・ファイル保存完了\n",
      "ダウンロード・ファイル保存完了\n",
      "ダウンロード・ファイル保存完了\n",
      "ダウンロード・ファイル保存完了\n",
      "ダウンロード・ファイル保存完了\n",
      "ダウンロード・ファイル保存完了\n",
      "ダウンロード・ファイル保存完了\n",
      "ダウンロード・ファイル保存完了\n",
      "ダウンロード・ファイル保存完了\n",
      "ダウンロード・ファイル保存完了\n",
      "ダウンロード・ファイル保存完了\n",
      "ダウンロード・ファイル保存完了\n",
      "ダウンロード・ファイル保存完了\n",
      "ダウンロード・ファイル保存完了\n",
      "ダウンロード・ファイル保存完了\n",
      "ダウンロード・ファイル保存完了\n",
      "ダウンロード・ファイル保存完了\n",
      "ダウンロード・ファイル保存完了\n",
      "ダウンロード・ファイル保存完了\n",
      "ダウンロード・ファイル保存完了\n",
      "ダウンロード・ファイル保存完了\n",
      "ダウンロード・ファイル保存完了\n",
      "ダウンロード・ファイル保存完了\n",
      "ダウンロード・ファイル保存完了\n",
      "ダウンロード・ファイル保存完了\n",
      "ダウンロード・ファイル保存完了\n",
      "ダウンロード・ファイル保存完了\n",
      "ダウンロード・ファイル保存完了\n",
      "ダウンロード・ファイル保存完了\n",
      "ダウンロード・ファイル保存完了\n",
      "ダウンロード・ファイル保存完了\n",
      "ダウンロード・ファイル保存完了\n",
      "ダウンロード・ファイル保存完了\n",
      "ダウンロード・ファイル保存完了\n",
      "ダウンロード・ファイル保存完了\n",
      "ダウンロード・ファイル保存完了\n",
      "ダウンロード・ファイル保存完了\n",
      "ダウンロード・ファイル保存完了\n",
      "ダウンロード・ファイル保存完了\n",
      "ダウンロード・ファイル保存完了\n",
      "ダウンロード・ファイル保存完了\n",
      "ダウンロード・ファイル保存完了\n",
      "ダウンロード・ファイル保存完了\n",
      "ダウンロード・ファイル保存完了\n",
      "ダウンロード・ファイル保存完了\n",
      "ダウンロード・ファイル保存完了\n",
      "ダウンロード・ファイル保存完了\n",
      "ダウンロード・ファイル保存完了\n",
      "ダウンロード・ファイル保存完了\n",
      "ダウンロード・ファイル保存完了\n",
      "ダウンロード・ファイル保存完了\n",
      "ダウンロード・ファイル保存完了\n",
      "ダウンロード・ファイル保存完了\n",
      "ダウンロード・ファイル保存完了\n",
      "ダウンロード・ファイル保存完了\n",
      "ダウンロード・ファイル保存完了\n",
      "ダウンロード・ファイル保存完了\n",
      "ダウンロード・ファイル保存完了\n",
      "ダウンロード・ファイル保存完了\n",
      "ダウンロード・ファイル保存完了\n",
      "ダウンロード・ファイル保存完了\n",
      "ダウンロード・ファイル保存完了\n",
      "ダウンロード・ファイル保存完了\n",
      "ダウンロード・ファイル保存完了\n",
      "ダウンロード・ファイル保存完了\n",
      "ダウンロード・ファイル保存完了\n",
      "ダウンロード・ファイル保存完了\n",
      "ダウンロード・ファイル保存完了\n",
      "ダウンロード・ファイル保存完了\n",
      "ダウンロード・ファイル保存完了\n",
      "ダウンロード・ファイル保存完了\n",
      "ダウンロード・ファイル保存完了\n",
      "ダウンロード・ファイル保存完了\n",
      "ダウンロード・ファイル保存完了\n",
      "ダウンロード・ファイル保存完了\n",
      "ダウンロード・ファイル保存完了\n",
      "ダウンロード・ファイル保存完了\n",
      "ダウンロード・ファイル保存完了\n",
      "ダウンロード・ファイル保存完了\n",
      "ダウンロード・ファイル保存完了\n",
      "ダウンロード・ファイル保存完了\n",
      "ダウンロード・ファイル保存完了\n",
      "ダウンロード・ファイル保存完了\n",
      "ダウンロード・ファイル保存完了\n",
      "ダウンロード・ファイル保存完了\n",
      "ダウンロード・ファイル保存完了\n",
      "ダウンロード・ファイル保存完了\n",
      "ダウンロード・ファイル保存完了\n",
      "ダウンロード・ファイル保存完了\n",
      "ダウンロード・ファイル保存完了\n",
      "ダウンロード・ファイル保存完了\n",
      "ダウンロード・ファイル保存完了\n",
      "ダウンロード・ファイル保存完了\n",
      "ダウンロード・ファイル保存完了\n",
      "ダウンロード・ファイル保存完了\n",
      "ダウンロード・ファイル保存完了\n",
      "ダウンロード・ファイル保存完了\n",
      "ダウンロード・ファイル保存完了\n",
      "ダウンロード・ファイル保存完了\n",
      "ダウンロード・ファイル保存完了\n",
      "ダウンロード・ファイル保存完了\n",
      "ダウンロード・ファイル保存完了\n",
      "ダウンロード・ファイル保存完了\n",
      "ダウンロード・ファイル保存完了\n",
      "ダウンロード・ファイル保存完了\n",
      "ダウンロード・ファイル保存完了\n",
      "ダウンロード・ファイル保存完了\n",
      "ダウンロード・ファイル保存完了\n",
      "ダウンロード・ファイル保存完了\n",
      "ダウンロード・ファイル保存完了\n",
      "ダウンロード・ファイル保存完了\n",
      "ダウンロード・ファイル保存完了\n",
      "ダウンロード・ファイル保存完了\n",
      "ダウンロード・ファイル保存完了\n",
      "ダウンロード・ファイル保存完了\n",
      "ダウンロード・ファイル保存完了\n",
      "ダウンロード・ファイル保存完了\n",
      "ダウンロード・ファイル保存完了\n",
      "ダウンロード・ファイル保存完了\n",
      "ダウンロード・ファイル保存完了\n",
      "ダウンロード・ファイル保存完了\n",
      "ダウンロード・ファイル保存完了\n",
      "ダウンロード・ファイル保存完了\n",
      "ダウンロード・ファイル保存完了\n",
      "ダウンロード・ファイル保存完了\n",
      "ダウンロード・ファイル保存完了\n",
      "ダウンロード・ファイル保存完了\n",
      "ダウンロード・ファイル保存完了\n",
      "ダウンロード・ファイル保存完了\n",
      "ダウンロード・ファイル保存完了\n",
      "ダウンロード・ファイル保存完了\n",
      "ダウンロード・ファイル保存完了\n",
      "ダウンロード・ファイル保存完了\n",
      "ダウンロード・ファイル保存完了\n",
      "ダウンロード・ファイル保存完了\n",
      "ダウンロード・ファイル保存完了\n",
      "ダウンロード・ファイル保存完了\n",
      "ダウンロード・ファイル保存完了\n",
      "ダウンロード・ファイル保存完了\n",
      "ダウンロード・ファイル保存完了\n",
      "ダウンロード・ファイル保存完了\n",
      "ダウンロード・ファイル保存完了\n",
      "ダウンロード・ファイル保存完了\n",
      "ダウンロード・ファイル保存完了\n",
      "ダウンロード・ファイル保存完了\n",
      "ダウンロード・ファイル保存完了\n",
      "ダウンロード・ファイル保存完了\n",
      "ダウンロード・ファイル保存完了\n",
      "ダウンロード・ファイル保存完了\n",
      "ダウンロード・ファイル保存完了\n",
      "ダウンロード・ファイル保存完了\n",
      "ダウンロード・ファイル保存完了\n",
      "ダウンロード・ファイル保存完了\n",
      "ダウンロード・ファイル保存完了\n",
      "ダウンロード・ファイル保存完了\n",
      "ダウンロード・ファイル保存完了\n",
      "ダウンロード・ファイル保存完了\n",
      "ダウンロード・ファイル保存完了\n",
      "ダウンロード・ファイル保存完了\n",
      "ダウンロード・ファイル保存完了\n",
      "ダウンロード・ファイル保存完了\n",
      "ダウンロード・ファイル保存完了\n",
      "ダウンロード・ファイル保存完了\n",
      "ダウンロード・ファイル保存完了\n",
      "ダウンロード・ファイル保存完了\n",
      "ダウンロード・ファイル保存完了\n",
      "ダウンロード・ファイル保存完了\n",
      "ダウンロード・ファイル保存完了\n",
      "ダウンロード・ファイル保存完了\n",
      "ダウンロード・ファイル保存完了\n",
      "ダウンロード・ファイル保存完了\n",
      "ダウンロード・ファイル保存完了\n",
      "ダウンロード・ファイル保存完了\n",
      "ダウンロード・ファイル保存完了\n",
      "ダウンロード・ファイル保存完了\n",
      "ダウンロード・ファイル保存完了\n",
      "ダウンロード・ファイル保存完了\n",
      "ダウンロード・ファイル保存完了\n",
      "ダウンロード・ファイル保存完了\n",
      "ダウンロード・ファイル保存完了\n",
      "ダウンロード・ファイル保存完了\n",
      "ダウンロード・ファイル保存完了\n",
      "ダウンロード・ファイル保存完了\n",
      "ダウンロード・ファイル保存完了\n",
      "ダウンロード・ファイル保存完了\n",
      "ダウンロード・ファイル保存完了\n",
      "ダウンロード・ファイル保存完了\n",
      "ダウンロード・ファイル保存完了\n",
      "ダウンロード・ファイル保存完了\n",
      "ダウンロード・ファイル保存完了\n",
      "ダウンロード・ファイル保存完了\n",
      "ダウンロード・ファイル保存完了\n",
      "ダウンロード・ファイル保存完了\n",
      "ダウンロード・ファイル保存完了\n",
      "ダウンロード・ファイル保存完了\n",
      "ダウンロード・ファイル保存完了\n",
      "ダウンロード・ファイル保存完了\n",
      "ダウンロード・ファイル保存完了\n",
      "ダウンロード・ファイル保存完了\n",
      "ダウンロード・ファイル保存完了\n",
      "ダウンロード・ファイル保存完了\n",
      "ダウンロード・ファイル保存完了\n",
      "ダウンロード・ファイル保存完了\n",
      "ダウンロード・ファイル保存完了\n",
      "ダウンロード・ファイル保存完了\n",
      "ダウンロード・ファイル保存完了\n",
      "ダウンロード・ファイル保存完了\n",
      "ダウンロード・ファイル保存完了\n",
      "ダウンロード・ファイル保存完了\n",
      "ダウンロード・ファイル保存完了\n",
      "ダウンロード・ファイル保存完了\n",
      "ダウンロード・ファイル保存完了\n",
      "ダウンロード・ファイル保存完了\n",
      "ダウンロード・ファイル保存完了\n",
      "ダウンロード・ファイル保存完了\n",
      "ダウンロード・ファイル保存完了\n",
      "ダウンロード・ファイル保存完了\n",
      "ダウンロード・ファイル保存完了\n",
      "ダウンロード・ファイル保存完了\n",
      "ダウンロード・ファイル保存完了\n",
      "ダウンロード・ファイル保存完了\n",
      "ダウンロード・ファイル保存完了\n",
      "ダウンロード・ファイル保存完了\n",
      "ダウンロード・ファイル保存完了\n",
      "ダウンロード・ファイル保存完了\n",
      "ダウンロード・ファイル保存完了\n",
      "ダウンロード・ファイル保存完了\n",
      "ダウンロード・ファイル保存完了\n",
      "ダウンロード・ファイル保存完了\n",
      "ダウンロード・ファイル保存完了\n",
      "ダウンロード・ファイル保存完了\n",
      "ダウンロード・ファイル保存完了\n",
      "ダウンロード・ファイル保存完了\n",
      "ダウンロード・ファイル保存完了\n",
      "ダウンロード・ファイル保存完了\n",
      "ダウンロード・ファイル保存完了\n",
      "ダウンロード・ファイル保存完了\n",
      "ダウンロード・ファイル保存完了\n",
      "ダウンロード・ファイル保存完了\n",
      "ダウンロード・ファイル保存完了\n",
      "ダウンロード・ファイル保存完了\n",
      "ダウンロード・ファイル保存完了\n",
      "ダウンロード・ファイル保存完了\n",
      "ダウンロード・ファイル保存完了\n",
      "ダウンロード・ファイル保存完了\n",
      "ダウンロード・ファイル保存完了\n",
      "ダウンロード・ファイル保存完了\n",
      "ダウンロード・ファイル保存完了\n",
      "ダウンロード・ファイル保存完了\n",
      "ダウンロード・ファイル保存完了\n",
      "ダウンロード・ファイル保存完了\n",
      "ダウンロード・ファイル保存完了\n",
      "ダウンロード・ファイル保存完了\n",
      "ダウンロード・ファイル保存完了\n",
      "ダウンロード・ファイル保存完了\n",
      "ダウンロード・ファイル保存完了\n",
      "ダウンロード・ファイル保存完了\n",
      "ダウンロード・ファイル保存完了\n",
      "ダウンロード・ファイル保存完了\n",
      "ダウンロード・ファイル保存完了\n",
      "ダウンロード・ファイル保存完了\n",
      "ダウンロード・ファイル保存完了\n",
      "ダウンロード・ファイル保存完了\n",
      "ダウンロード・ファイル保存完了\n",
      "ダウンロード・ファイル保存完了\n",
      "ダウンロード・ファイル保存完了\n",
      "ダウンロード・ファイル保存完了\n",
      "ダウンロード・ファイル保存完了\n",
      "ダウンロード・ファイル保存完了\n",
      "ダウンロード・ファイル保存完了\n",
      "ダウンロード・ファイル保存完了\n",
      "ダウンロード・ファイル保存完了\n",
      "ダウンロード・ファイル保存完了\n",
      "ダウンロード・ファイル保存完了\n",
      "ダウンロード・ファイル保存完了\n",
      "ダウンロード・ファイル保存完了\n",
      "ダウンロード・ファイル保存完了\n",
      "ダウンロード・ファイル保存完了\n",
      "ダウンロード・ファイル保存完了\n",
      "ダウンロード・ファイル保存完了\n",
      "ダウンロード・ファイル保存完了\n",
      "ダウンロード・ファイル保存完了\n",
      "ダウンロード・ファイル保存完了\n",
      "ダウンロード・ファイル保存完了\n",
      "ダウンロード・ファイル保存完了\n",
      "ダウンロード・ファイル保存完了\n",
      "ダウンロード・ファイル保存完了\n",
      "ダウンロード・ファイル保存完了\n",
      "ダウンロード・ファイル保存完了\n",
      "ダウンロード・ファイル保存完了\n",
      "ダウンロード・ファイル保存完了\n",
      "ダウンロード・ファイル保存完了\n",
      "ダウンロード・ファイル保存完了\n",
      "ダウンロード・ファイル保存完了\n",
      "ダウンロード・ファイル保存完了\n",
      "ダウンロード・ファイル保存完了\n",
      "ダウンロード・ファイル保存完了\n",
      "ダウンロード・ファイル保存完了\n",
      "ダウンロード・ファイル保存完了\n",
      "ダウンロード・ファイル保存完了\n",
      "ダウンロード・ファイル保存完了\n",
      "ダウンロード・ファイル保存完了\n",
      "ダウンロード・ファイル保存完了\n",
      "ダウンロード・ファイル保存完了\n",
      "ダウンロード・ファイル保存完了\n",
      "ダウンロード・ファイル保存完了\n",
      "ダウンロード・ファイル保存完了\n",
      "ダウンロード・ファイル保存完了\n",
      "ダウンロード・ファイル保存完了\n",
      "ダウンロード・ファイル保存完了\n",
      "ダウンロード・ファイル保存完了\n",
      "ダウンロード・ファイル保存完了\n",
      "ダウンロード・ファイル保存完了\n",
      "ダウンロード・ファイル保存完了\n",
      "ダウンロード・ファイル保存完了\n",
      "ダウンロード・ファイル保存完了\n",
      "ダウンロード・ファイル保存完了\n",
      "ダウンロード・ファイル保存完了\n",
      "ダウンロード・ファイル保存完了\n",
      "ダウンロード・ファイル保存完了\n",
      "ダウンロード・ファイル保存完了\n",
      "ダウンロード・ファイル保存完了\n",
      "ダウンロード・ファイル保存完了\n",
      "ダウンロード・ファイル保存完了\n",
      "ダウンロード・ファイル保存完了\n",
      "ダウンロード・ファイル保存完了\n",
      "ダウンロード・ファイル保存完了\n",
      "ダウンロード・ファイル保存完了\n",
      "ダウンロード・ファイル保存完了\n",
      "ダウンロード・ファイル保存完了\n",
      "ダウンロード・ファイル保存完了\n",
      "ダウンロード・ファイル保存完了\n",
      "ダウンロード・ファイル保存完了\n",
      "ダウンロード・ファイル保存完了\n",
      "ダウンロード・ファイル保存完了\n",
      "ダウンロード・ファイル保存完了\n",
      "ダウンロード・ファイル保存完了\n",
      "ダウンロード・ファイル保存完了\n",
      "ダウンロード・ファイル保存完了\n",
      "ダウンロード・ファイル保存完了\n",
      "ダウンロード・ファイル保存完了\n",
      "ダウンロード・ファイル保存完了\n",
      "ダウンロード・ファイル保存完了\n",
      "ダウンロード・ファイル保存完了\n",
      "ダウンロード・ファイル保存完了\n",
      "ダウンロード・ファイル保存完了\n",
      "ダウンロード・ファイル保存完了\n",
      "ダウンロード・ファイル保存完了\n",
      "ダウンロード・ファイル保存完了\n",
      "ダウンロード・ファイル保存完了\n",
      "ダウンロード・ファイル保存完了\n",
      "ダウンロード・ファイル保存完了\n",
      "ダウンロード・ファイル保存完了\n",
      "ダウンロード・ファイル保存完了\n",
      "ダウンロード・ファイル保存完了\n",
      "ダウンロード・ファイル保存完了\n",
      "ダウンロード・ファイル保存完了\n",
      "ダウンロード・ファイル保存完了\n",
      "ダウンロード・ファイル保存完了\n",
      "ダウンロード・ファイル保存完了\n",
      "ダウンロード・ファイル保存完了\n",
      "ダウンロード・ファイル保存完了\n",
      "ダウンロード・ファイル保存完了\n",
      "ダウンロード・ファイル保存完了\n",
      "ダウンロード・ファイル保存完了\n",
      "ダウンロード・ファイル保存完了\n",
      "ダウンロード・ファイル保存完了\n",
      "ダウンロード・ファイル保存完了\n",
      "ダウンロード・ファイル保存完了\n",
      "ダウンロード・ファイル保存完了\n",
      "ダウンロード・ファイル保存完了\n"
     ]
    },
    {
     "name": "stdout",
     "output_type": "stream",
     "text": [
      "ダウンロード・ファイル保存完了\n",
      "ダウンロード・ファイル保存完了\n",
      "ダウンロード・ファイル保存完了\n",
      "ダウンロード・ファイル保存完了\n",
      "ダウンロード・ファイル保存完了\n",
      "ダウンロード・ファイル保存完了\n",
      "ダウンロード・ファイル保存完了\n",
      "ダウンロード・ファイル保存完了\n",
      "ダウンロード・ファイル保存完了\n",
      "ダウンロード・ファイル保存完了\n",
      "ダウンロード・ファイル保存完了\n",
      "ダウンロード・ファイル保存完了\n",
      "ダウンロード・ファイル保存完了\n",
      "ダウンロード・ファイル保存完了\n",
      "ダウンロード・ファイル保存完了\n",
      "ダウンロード・ファイル保存完了\n",
      "ダウンロード・ファイル保存完了\n",
      "ダウンロード・ファイル保存完了\n",
      "\n"
     ]
    }
   ],
   "source": [
    "for u in tqdm(all_ind_url):\n",
    "    download_files(u, 'pdfs')\n",
    "    time.sleep(0.5)"
   ]
  },
  {
   "cell_type": "code",
   "execution_count": 76,
   "metadata": {},
   "outputs": [
    {
     "data": {
      "text/plain": [
       "'ダウンロード済み最新: 2022年 18号'"
      ]
     },
     "execution_count": 76,
     "metadata": {},
     "output_type": "execute_result"
    }
   ],
   "source": [
    "download_pdfs = os.listdir('pdfs')\n",
    "try:\n",
    "    os.remove('./pdfs/.DS_Store')\n",
    "except:\n",
    "    pass\n",
    "download_pdfs.sort()\n",
    "'ダウンロード済み最新: 20%s年 %s号'%(download_pdfs[-1][1:3],download_pdfs[-1][3:5])"
   ]
  },
  {
   "cell_type": "code",
   "execution_count": null,
   "metadata": {},
   "outputs": [],
   "source": []
  }
 ],
 "metadata": {
  "jupytext": {
   "text_representation": {
    "extension": ".py",
    "format_name": "light",
    "format_version": "1.5",
    "jupytext_version": "1.7.1"
   }
  },
  "kernelspec": {
   "display_name": "Python 3",
   "language": "python",
   "name": "python3"
  },
  "language_info": {
   "codemirror_mode": {
    "name": "ipython",
    "version": 3
   },
   "file_extension": ".py",
   "mimetype": "text/x-python",
   "name": "python",
   "nbconvert_exporter": "python",
   "pygments_lexer": "ipython3",
   "version": "3.6.6"
  }
 },
 "nbformat": 4,
 "nbformat_minor": 4
}
